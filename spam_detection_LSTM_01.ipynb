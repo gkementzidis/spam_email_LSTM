{
 "cells": [
  {
   "cell_type": "markdown",
   "metadata": {},
   "source": [
    "# LSTM - Spam email detection\n",
    "## G. Kementzidis\n",
    "Let's create an LSTM network using PyTorch. The goal is to classify emails as either spam or not spam based on their text.\n",
    "\n",
    "A lot of people have trained similar models to achieve this task: from simpler concepts like Naive Bayes to more complicated architectures like tranformers.\n",
    "\n",
    "I found a labeled dataset on Kaggle with emails, and whether they are considered spam or not. You can find it here: https://www.kaggle.com/datasets/jackksoncsie/spam-email-dataset"
   ]
  },
  {
   "cell_type": "code",
   "execution_count": 1,
   "metadata": {},
   "outputs": [
    {
     "data": {
      "text/plain": [
       "<torch._C.Generator at 0x15f11a4d0>"
      ]
     },
     "execution_count": 1,
     "metadata": {},
     "output_type": "execute_result"
    }
   ],
   "source": [
    "import numpy as np\n",
    "import matplotlib.pyplot as plt\n",
    "import pandas as pd\n",
    "\n",
    "import torch\n",
    "import torch.nn as nn\n",
    "import torch.nn.functional as F\n",
    "from torch.nn import LSTM, Linear\n",
    "import torch.optim as optim\n",
    "from torch.utils.data import DataLoader, TensorDataset\n",
    "\n",
    "torch.manual_seed(1)"
   ]
  },
  {
   "cell_type": "markdown",
   "metadata": {},
   "source": [
    "### Loading data"
   ]
  },
  {
   "cell_type": "code",
   "execution_count": 2,
   "metadata": {},
   "outputs": [],
   "source": [
    "# loading data\n",
    "data = pd.read_csv('emails.csv')"
   ]
  },
  {
   "cell_type": "code",
   "execution_count": 3,
   "metadata": {},
   "outputs": [
    {
     "data": {
      "image/png": "[encoded data removed]",
      "text/plain": [
       "<Figure size 640x480 with 1 Axes>"
      ]
     },
     "metadata": {},
     "output_type": "display_data"
    },
    {
     "name": "stdout",
     "output_type": "stream",
     "text": [
      "The longest email has 8477 words\n"
     ]
    }
   ],
   "source": [
    "# create a histogram with the length of each email\n",
    "lengths = [len(data['text'][i].split()) for i in range(len(data['text']))]\n",
    "\n",
    "plt.hist(lengths, bins=150)\n",
    "plt.title('Word counts in emails')\n",
    "plt.show()\n",
    "\n",
    "max_length = max(lengths)\n",
    "print('The longest email has', max_length, 'words')"
   ]
  },
  {
   "cell_type": "markdown",
   "metadata": {},
   "source": [
    "### Pre-process the texts\n",
    "- Remove punctuation\n",
    "- Turn upper-case characters to lower-case\n",
    "\n",
    "We will be using the first 100 words of the emails with at least 100 words."
   ]
  },
  {
   "cell_type": "code",
   "execution_count": 4,
   "metadata": {},
   "outputs": [
    {
     "data": {
      "text/html": [
       "<div>\n",
       "<style scoped>\n",
       "    .dataframe tbody tr th:only-of-type {\n",
       "        vertical-align: middle;\n",
       "    }\n",
       "\n",
       "    .dataframe tbody tr th {\n",
       "        vertical-align: top;\n",
       "    }\n",
       "\n",
       "    .dataframe thead th {\n",
       "        text-align: right;\n",
       "    }\n",
       "</style>\n",
       "<table border=\"1\" class=\"dataframe\">\n",
       "  <thead>\n",
       "    <tr style=\"text-align: right;\">\n",
       "      <th></th>\n",
       "      <th>text</th>\n",
       "      <th>spam</th>\n",
       "      <th>text_mod</th>\n",
       "      <th>text_cut</th>\n",
       "    </tr>\n",
       "  </thead>\n",
       "  <tbody>\n",
       "    <tr>\n",
       "      <th>0</th>\n",
       "      <td>Subject: naturally irresistible your corporate...</td>\n",
       "      <td>1</td>\n",
       "      <td>subject naturally irresistible your corporate ...</td>\n",
       "      <td>subject naturally irresistible your corporate ...</td>\n",
       "    </tr>\n",
       "    <tr>\n",
       "      <th>1</th>\n",
       "      <td>Subject: here ' s a hot play in motion  homela...</td>\n",
       "      <td>1</td>\n",
       "      <td>subject here  s a hot play in motion  homeland...</td>\n",
       "      <td>subject here s a hot play in motion homeland s...</td>\n",
       "    </tr>\n",
       "    <tr>\n",
       "      <th>2</th>\n",
       "      <td>Subject: undeliverable : home based business f...</td>\n",
       "      <td>1</td>\n",
       "      <td>subject undeliverable  home based business for...</td>\n",
       "      <td>subject undeliverable home based business for ...</td>\n",
       "    </tr>\n",
       "    <tr>\n",
       "      <th>3</th>\n",
       "      <td>Subject: las vegas high rise boom  las vegas i...</td>\n",
       "      <td>1</td>\n",
       "      <td>subject las vegas high rise boom  las vegas is...</td>\n",
       "      <td>subject las vegas high rise boom las vegas is ...</td>\n",
       "    </tr>\n",
       "    <tr>\n",
       "      <th>4</th>\n",
       "      <td>Subject: brighten those teeth  get your  teeth...</td>\n",
       "      <td>1</td>\n",
       "      <td>subject brighten those teeth  get your  teeth ...</td>\n",
       "      <td>subject brighten those teeth get your teeth br...</td>\n",
       "    </tr>\n",
       "    <tr>\n",
       "      <th>...</th>\n",
       "      <td>...</td>\n",
       "      <td>...</td>\n",
       "      <td>...</td>\n",
       "      <td>...</td>\n",
       "    </tr>\n",
       "    <tr>\n",
       "      <th>4321</th>\n",
       "      <td>Subject: re : research and development charges...</td>\n",
       "      <td>0</td>\n",
       "      <td>subject re  research and development charges t...</td>\n",
       "      <td>subject re research and development charges to...</td>\n",
       "    </tr>\n",
       "    <tr>\n",
       "      <th>4322</th>\n",
       "      <td>Subject: re : receipts from visit  jim ,  than...</td>\n",
       "      <td>0</td>\n",
       "      <td>subject re  receipts from visit  jim   thanks ...</td>\n",
       "      <td>subject re receipts from visit jim thanks agai...</td>\n",
       "    </tr>\n",
       "    <tr>\n",
       "      <th>4323</th>\n",
       "      <td>Subject: re : enron case study update  wow ! a...</td>\n",
       "      <td>0</td>\n",
       "      <td>subject re  enron case study update  wow  all ...</td>\n",
       "      <td>subject re enron case study update wow all on ...</td>\n",
       "    </tr>\n",
       "    <tr>\n",
       "      <th>4324</th>\n",
       "      <td>Subject: re : interest  david ,  please , call...</td>\n",
       "      <td>0</td>\n",
       "      <td>subject re  interest  david   please  call shi...</td>\n",
       "      <td>subject re interest david please call shirley ...</td>\n",
       "    </tr>\n",
       "    <tr>\n",
       "      <th>4325</th>\n",
       "      <td>Subject: news : aurora 5 . 2 update  aurora ve...</td>\n",
       "      <td>0</td>\n",
       "      <td>subject news  aurora    update  aurora version...</td>\n",
       "      <td>subject news aurora update aurora version the ...</td>\n",
       "    </tr>\n",
       "  </tbody>\n",
       "</table>\n",
       "<p>4326 rows × 4 columns</p>\n",
       "</div>"
      ],
      "text/plain": [
       "                                                   text  spam  \\\n",
       "0     Subject: naturally irresistible your corporate...     1   \n",
       "1     Subject: here ' s a hot play in motion  homela...     1   \n",
       "2     Subject: undeliverable : home based business f...     1   \n",
       "3     Subject: las vegas high rise boom  las vegas i...     1   \n",
       "4     Subject: brighten those teeth  get your  teeth...     1   \n",
       "...                                                 ...   ...   \n",
       "4321  Subject: re : research and development charges...     0   \n",
       "4322  Subject: re : receipts from visit  jim ,  than...     0   \n",
       "4323  Subject: re : enron case study update  wow ! a...     0   \n",
       "4324  Subject: re : interest  david ,  please , call...     0   \n",
       "4325  Subject: news : aurora 5 . 2 update  aurora ve...     0   \n",
       "\n",
       "                                               text_mod  \\\n",
       "0     subject naturally irresistible your corporate ...   \n",
       "1     subject here  s a hot play in motion  homeland...   \n",
       "2     subject undeliverable  home based business for...   \n",
       "3     subject las vegas high rise boom  las vegas is...   \n",
       "4     subject brighten those teeth  get your  teeth ...   \n",
       "...                                                 ...   \n",
       "4321  subject re  research and development charges t...   \n",
       "4322  subject re  receipts from visit  jim   thanks ...   \n",
       "4323  subject re  enron case study update  wow  all ...   \n",
       "4324  subject re  interest  david   please  call shi...   \n",
       "4325  subject news  aurora    update  aurora version...   \n",
       "\n",
       "                                               text_cut  \n",
       "0     subject naturally irresistible your corporate ...  \n",
       "1     subject here s a hot play in motion homeland s...  \n",
       "2     subject undeliverable home based business for ...  \n",
       "3     subject las vegas high rise boom las vegas is ...  \n",
       "4     subject brighten those teeth get your teeth br...  \n",
       "...                                                 ...  \n",
       "4321  subject re research and development charges to...  \n",
       "4322  subject re receipts from visit jim thanks agai...  \n",
       "4323  subject re enron case study update wow all on ...  \n",
       "4324  subject re interest david please call shirley ...  \n",
       "4325  subject news aurora update aurora version the ...  \n",
       "\n",
       "[4326 rows x 4 columns]"
      ]
     },
     "execution_count": 4,
     "metadata": {},
     "output_type": "execute_result"
    }
   ],
   "source": [
    "num_words = 100\n",
    "\n",
    "# remove punctuation and make all letters lowercase\n",
    "# we use regular expressions\n",
    "data['text_mod'] = data['text'].str.replace(r'[^a-zA-Z\\s]', '', regex=True).str.lower()\n",
    "more_than_100 = np.array([1 if len(data['text'][i].split()) > num_words else 0 for i in range(len(data['text']))])\n",
    "data_hundred = data[more_than_100 == 1].reset_index(drop=True)\n",
    "\n",
    "# get the first 100 words of each email\n",
    "data_hundred['text_cut'] = data_hundred['text_mod'].str.split().apply(lambda x: x[:num_words]).str.join(' ')\n",
    "data_hundred"
   ]
  },
  {
   "cell_type": "markdown",
   "metadata": {},
   "source": [
    "We make sure to remove duplicates and check whether our dataset is balanced. As you'll see later at the bottom of the notebook, during our first attempts, the dataset was unbalanced and the results were mixed. To balance it, we only kept 2/3 of the non-spam emails.\n"
   ]
  },
  {
   "cell_type": "code",
   "execution_count": 5,
   "metadata": {},
   "outputs": [],
   "source": [
    "# remove duplicates and reset index\n",
    "data_hundred = data_hundred.drop_duplicates().reset_index(drop=True)"
   ]
  },
  {
   "cell_type": "code",
   "execution_count": 6,
   "metadata": {},
   "outputs": [
    {
     "data": {
      "text/plain": [
       "spam\n",
       "0    3438\n",
       "1     861\n",
       "Name: count, dtype: int64"
      ]
     },
     "execution_count": 6,
     "metadata": {},
     "output_type": "execute_result"
    }
   ],
   "source": [
    "data_hundred['spam'].value_counts()"
   ]
  },
  {
   "cell_type": "code",
   "execution_count": 7,
   "metadata": {},
   "outputs": [
    {
     "data": {
      "text/plain": [
       "spam\n",
       "0    2292\n",
       "1     861\n",
       "Name: count, dtype: int64"
      ]
     },
     "execution_count": 7,
     "metadata": {},
     "output_type": "execute_result"
    }
   ],
   "source": [
    "# from data_hundred, keep only 2/3 of the non-spam emails\n",
    "data_hundred = data_hundred.drop(data_hundred[data_hundred['spam'] == 0].sample(frac=1/3).index).reset_index(drop=True)\n",
    "data_hundred['spam'].value_counts()"
   ]
  },
  {
   "cell_type": "markdown",
   "metadata": {},
   "source": [
    "There is a variety of methods to deal with unbalanced datasets. In the case of images or numerical variables, you can conduct some sort of data augmentation, such as using reflections or rotations of images, SMOTE (synthetic minortiy over-sampling technique) for numerical data, etc. These cannot be easily applied to our model, because our input to the model is a text/string, whose words are carefully placed one after the other to convey a very specific meaning. Repeating words, bootstraping, or data-points interpolation isn't very meaningful."
   ]
  },
  {
   "cell_type": "markdown",
   "metadata": {},
   "source": [
    "### Creating word embeddings\n",
    "We gather all unique words from the emails and we encode each one of them with a unique $x \\in \\R^{100}$. Whether the vector length is 100 or some other number (50, 150, 200, etc.) is a matter of choice. The word length is a hyperparameters and we can try different values. \n",
    "\n",
    "We are using a pre-trained embedding called GloVe which respects the semantic and syntactic relationships between words. A previous attempt involved a random word embedding and there was little information learnt by the LSTM model.\n",
    "\n",
    "[GloVe: Global Vectors for Word Representation](https://aclanthology.org/D14-1162) (Pennington et al., EMNLP 2014)"
   ]
  },
  {
   "cell_type": "code",
   "execution_count": 8,
   "metadata": {},
   "outputs": [],
   "source": [
    "# Load GloVe embeddings\n",
    "glove_path = 'glove.6B.100d.txt'\n",
    "glove = {}\n",
    "with open(glove_path, 'r') as f:\n",
    "    for line in f:\n",
    "        values = line.split()\n",
    "        word = values[0]\n",
    "        vector = np.asarray(values[1:], 'float32')\n",
    "        glove[word] = vector"
   ]
  },
  {
   "cell_type": "code",
   "execution_count": 9,
   "metadata": {},
   "outputs": [],
   "source": [
    "word_length = 100\n",
    "\n",
    "# create a dictionary of all unique words\n",
    "word_dict = {}\n",
    "num = 2\n",
    "for i in range(len(data_hundred)):\n",
    "    for word in data_hundred['text_cut'][i].split():\n",
    "        if word not in word_dict:\n",
    "            word_dict[word] = num\n",
    "            num += 1\n",
    "\n",
    "word_dict['<PAD>'] = 0 # padding\n",
    "word_dict['<UNK>'] = 1 # unknown word"
   ]
  },
  {
   "cell_type": "code",
   "execution_count": 10,
   "metadata": {},
   "outputs": [],
   "source": [
    "# create word embeddings for each word\n",
    "# Create an embedding matrix\n",
    "embedding_matrix = np.zeros((len(word_dict), word_length))\n",
    "for word, i in word_dict.items():\n",
    "    embedding_vector = glove.get(word)\n",
    "    if embedding_vector is not None:\n",
    "        embedding_matrix[i] = embedding_vector\n",
    "    else:\n",
    "        embedding_matrix[i] = np.random.normal(scale=0.6, size=(word_length, ))\n",
    "\n",
    "# Convert the embedding matrix to a tensor\n",
    "embedding_matrix = torch.tensor(embedding_matrix, dtype=torch.float32)\n",
    "\n",
    "# Create an embedding layer using the GloVe embeddings\n",
    "word_embeddings = nn.Embedding.from_pretrained(embedding_matrix, freeze=False)"
   ]
  },
  {
   "cell_type": "markdown",
   "metadata": {},
   "source": [
    "### Train-test split and create the Dataloaders\n",
    "\n",
    "An important aspect of ML is to be able to train a data-driven model which can be applied to unseen data. \n",
    "\n",
    "A train-test split (80-20) lets us see whether we are dealing with either underfitting or overfitting."
   ]
  },
  {
   "cell_type": "code",
   "execution_count": 11,
   "metadata": {},
   "outputs": [],
   "source": [
    "# train - test split (80-20)\n",
    "train = data_hundred.sample(frac=0.8, random_state=1)\n",
    "test = data_hundred.drop(train.index)\n",
    "\n",
    "train_reset = train.reset_index(drop=False)\n",
    "test_reset = test.reset_index(drop=False)\n",
    "\n",
    "# create a tensor with the labels\n",
    "train_labels = torch.tensor(train_reset['spam'].to_numpy()).reshape(-1, 1)\n",
    "test_labels = torch.tensor(test_reset['spam'].to_numpy()).reshape(-1, 1)\n",
    "\n",
    "# create a tensor with the first num_words word embeddings of each email\n",
    "train_tensor = torch.zeros(len(train), num_words, word_length)\n",
    "test_tensor = torch.zeros(len(test), num_words, word_length)"
   ]
  },
  {
   "cell_type": "code",
   "execution_count": 12,
   "metadata": {},
   "outputs": [
    {
     "name": "stderr",
     "output_type": "stream",
     "text": [
      "/var/folders/f6/znb06gy13c5c28v99r1ds2fh0000gn/T/ipykernel_50068/2700289647.py:3: UserWarning: To copy construct from a tensor, it is recommended to use sourceTensor.clone().detach() or sourceTensor.clone().detach().requires_grad_(True), rather than torch.tensor(sourceTensor).\n",
      "  train_tensor[i, j, :] = torch.tensor(word_embeddings(torch.tensor([word_dict.get(word, word_dict['<UNK>'])]))[0])\n",
      "/var/folders/f6/znb06gy13c5c28v99r1ds2fh0000gn/T/ipykernel_50068/2700289647.py:7: UserWarning: To copy construct from a tensor, it is recommended to use sourceTensor.clone().detach() or sourceTensor.clone().detach().requires_grad_(True), rather than torch.tensor(sourceTensor).\n",
      "  test_tensor[i, j, :] = torch.tensor(word_embeddings(torch.tensor([word_dict.get(word, word_dict['<UNK>'])]))[0])\n"
     ]
    }
   ],
   "source": [
    "for i in range(len(train)):\n",
    "    for j, word in enumerate(train_reset['text_cut'][i].split()):\n",
    "        train_tensor[i, j, :] = torch.tensor(word_embeddings(torch.tensor([word_dict.get(word, word_dict['<UNK>'])]))[0])\n",
    "\n",
    "for i in range(len(test)):\n",
    "    for j, word in enumerate(test_reset['text_cut'][i].split()):\n",
    "        test_tensor[i, j, :] = torch.tensor(word_embeddings(torch.tensor([word_dict.get(word, word_dict['<UNK>'])]))[0])"
   ]
  },
  {
   "cell_type": "markdown",
   "metadata": {},
   "source": [
    "One of the model's hyperparameters is the batch size. We can experiment with multiple batch sizes e.g., 16, 32, 64, etc."
   ]
  },
  {
   "cell_type": "code",
   "execution_count": 13,
   "metadata": {},
   "outputs": [],
   "source": [
    "# create dataloaders for the training and test sets\n",
    "batch_size = 32\n",
    "train_loader = DataLoader(TensorDataset(train_tensor, train_labels), batch_size=batch_size, shuffle=False)\n",
    "test_loader = DataLoader(TensorDataset(test_tensor, test_labels), batch_size=batch_size, shuffle=False)"
   ]
  },
  {
   "cell_type": "markdown",
   "metadata": {},
   "source": [
    "### Create the LSTM network and the final model architecture\n",
    "We add some fully connected layers at the end to get a scalar value in the range $[0,1]$, indicating the probability our email is spam (1) or non-spam (0). The sigmoid activation function at the end ensures that the final output entry would be a number in that range."
   ]
  },
  {
   "cell_type": "code",
   "execution_count": 14,
   "metadata": {},
   "outputs": [],
   "source": [
    "class Network(nn.Module):\n",
    "    def __init__(self, input_size=word_length, hidden_size=10, num_layers=1, batch_first=True):\n",
    "        super(Network, self).__init__()\n",
    "        self.hidden_size = hidden_size\n",
    "        # our LSTM model\n",
    "        self.LSTM = LSTM(input_size=input_size, hidden_size=hidden_size, num_layers=num_layers, batch_first=batch_first)\n",
    "        # final fully connected layers\n",
    "        self.fc1 = Linear(10, 5)\n",
    "        self.fc2 = Linear(5, 1)\n",
    "    \n",
    "    def forward(self, x):\n",
    "        h0 = torch.zeros(1, x.size(0), self.hidden_size)\n",
    "        c0 = torch.zeros(1, x.size(0), self.hidden_size)\n",
    "        output, hidden = self.LSTM(x, (h0.detach(), c0.detach()))\n",
    "        x = F.relu(self.fc1(output[:,-1,:].view(x.size(0), -1)))\n",
    "        x = torch.sigmoid(self.fc2(x))\n",
    "        return x, hidden\n",
    "    \n",
    "model = Network()"
   ]
  },
  {
   "cell_type": "markdown",
   "metadata": {},
   "source": [
    "Since we are working on a classification task, we will be using Binary Cross Entropy as our loss function:\n",
    "\n",
    "$$-{(y\\log(p) + (1 - y)\\log(1 - p))}$$\n",
    "\n",
    "where $y$ is the class label (0 or 1) and $p$ is the output of the model - the probability that the input text belongs to class 1.\n",
    "\n",
    "For our optimization, we will be using Adam, a variation of mini-batch Stochastic Gradient Descent (SGD), which combines elements of Momentun SGD and RMSProp. The $\\beta$ parameters of our Adam algorithm are the PyTorch default values $(0.9, 0.999)$, which are commonly used for such tasks.\n",
    "\n",
    "A cruicial hyperparameter is the learning rate. My first attempts used 0.001 and the results were quite disappointing. I switched to 0.0001 and the results are much better. As expected, training with a smaller learning rate is a bit slower since the model parameters are updated by a smaller amount at each iteration."
   ]
  },
  {
   "cell_type": "code",
   "execution_count": 15,
   "metadata": {},
   "outputs": [],
   "source": [
    "# we will use binary cross entropy loss and the Adam optimizer\n",
    "criterion = nn.BCELoss()\n",
    "optimizer = optim.Adam(model.parameters(), lr=1e-4)"
   ]
  },
  {
   "cell_type": "markdown",
   "metadata": {},
   "source": [
    "### Training the model\n",
    "\n",
    "Another important hyperparameter is the number of epochs. Experimenting with various values, we chose to train the model for 60 epochs. Thankfully, the training doesn't take too long. For longer training sessions, we would have to employ methods like early stopping, where we assign a big maximum number of epochs, and we let the model stop training when we believe that the loss function isn't reducing too much."
   ]
  },
  {
   "cell_type": "code",
   "execution_count": 16,
   "metadata": {},
   "outputs": [
    {
     "name": "stdout",
     "output_type": "stream",
     "text": [
      "[1] loss: 0.576\n",
      "[2] loss: 0.565\n",
      "[3] loss: 0.549\n",
      "[4] loss: 0.529\n",
      "[5] loss: 0.508\n",
      "[6] loss: 0.491\n",
      "[7] loss: 0.479\n",
      "[8] loss: 0.469\n",
      "[9] loss: 0.460\n",
      "[10] loss: 0.453\n",
      "[11] loss: 0.448\n",
      "[12] loss: 0.445\n",
      "[13] loss: 0.441\n",
      "[14] loss: 0.438\n",
      "[15] loss: 0.434\n",
      "[16] loss: 0.430\n",
      "[17] loss: 0.426\n",
      "[18] loss: 0.421\n",
      "[19] loss: 0.414\n",
      "[20] loss: 0.406\n",
      "[21] loss: 0.396\n",
      "[22] loss: 0.383\n",
      "[23] loss: 0.364\n",
      "[24] loss: 0.337\n",
      "[25] loss: 0.315\n",
      "[26] loss: 0.311\n",
      "[27] loss: 0.305\n",
      "[28] loss: 0.293\n",
      "[29] loss: 0.288\n",
      "[30] loss: 0.284\n",
      "[31] loss: 0.278\n",
      "[32] loss: 0.273\n",
      "[33] loss: 0.268\n",
      "[34] loss: 0.261\n",
      "[35] loss: 0.256\n",
      "[36] loss: 0.249\n",
      "[37] loss: 0.243\n",
      "[38] loss: 0.237\n",
      "[39] loss: 0.231\n",
      "[40] loss: 0.225\n",
      "[41] loss: 0.220\n",
      "[42] loss: 0.216\n",
      "[43] loss: 0.210\n",
      "[44] loss: 0.205\n",
      "[45] loss: 0.201\n",
      "[46] loss: 0.197\n",
      "[47] loss: 0.198\n",
      "[48] loss: 0.197\n",
      "[49] loss: 0.186\n",
      "[50] loss: 0.183\n",
      "[51] loss: 0.180\n",
      "[52] loss: 0.177\n",
      "[53] loss: 0.173\n",
      "[54] loss: 0.172\n",
      "[55] loss: 0.168\n",
      "[56] loss: 0.166\n",
      "[57] loss: 0.164\n",
      "[58] loss: 0.161\n",
      "[59] loss: 0.159\n",
      "[60] loss: 0.157\n",
      "Finished Training\n"
     ]
    }
   ],
   "source": [
    "epochs = 60\n",
    "# training\n",
    "for epoch in range(epochs):\n",
    "    running_loss = 0.0\n",
    "    for i, data in enumerate(train_loader, 0):\n",
    "        inputs, labels = data\n",
    "        outputs, hidden = model(inputs)\n",
    "        loss = criterion(outputs, labels.float())\n",
    "        running_loss += loss.item()\n",
    "\n",
    "        optimizer.zero_grad()\n",
    "        loss.backward()\n",
    "        optimizer.step()\n",
    "\n",
    "    print('[%d] loss: %.3f' % (epoch + 1, running_loss / 100))\n",
    "print('Finished Training')"
   ]
  },
  {
   "cell_type": "markdown",
   "metadata": {},
   "source": [
    "### Testing the model!\n",
    "\n",
    "We first check the accuracy."
   ]
  },
  {
   "cell_type": "code",
   "execution_count": 18,
   "metadata": {},
   "outputs": [
    {
     "name": "stdout",
     "output_type": "stream",
     "text": [
      "Accuracy of the network on the test set: 92 %\n"
     ]
    }
   ],
   "source": [
    "# testing\n",
    "correct = 0\n",
    "total = 0\n",
    "with torch.no_grad():\n",
    "    for data in test_loader:\n",
    "        inputs, labels = data\n",
    "        outputs, _ = model(inputs)\n",
    "        predicted = torch.round(outputs)\n",
    "        # print(predicted.sum(), labels.sum())\n",
    "        total += labels.size(0)\n",
    "        correct += (predicted == labels).sum().item()\n",
    "\n",
    "print('Accuracy of the network on the test set: %d %%' % (100 * correct / total))"
   ]
  },
  {
   "cell_type": "markdown",
   "metadata": {},
   "source": [
    "However, accuracy isn't the only meaningful metric. As a result, we compute the confusion matrix below.\n",
    "\n",
    "What do the confusion matrix entries mean?\n",
    "\n",
    "(0,0): True Negative\n",
    "\n",
    "(0,1): False Positive\n",
    "\n",
    "(1,0): False Negative\n",
    "\n",
    "(1,1): True Positive"
   ]
  },
  {
   "cell_type": "code",
   "execution_count": 19,
   "metadata": {},
   "outputs": [
    {
     "name": "stdout",
     "output_type": "stream",
     "text": [
      "tensor([[427.,  25.],\n",
      "        [ 20., 159.]])\n"
     ]
    }
   ],
   "source": [
    "# confusion matrix\n",
    "confusion = torch.zeros(2, 2)\n",
    "with torch.no_grad():\n",
    "    for data in test_loader:\n",
    "        inputs, labels = data\n",
    "        outputs, _ = model(inputs)\n",
    "        predicted = torch.round(outputs)\n",
    "        for t, p in zip(labels.view(-1), predicted.view(-1)):\n",
    "            confusion[t.long(), p.long()] += 1\n",
    "\n",
    "print(confusion)"
   ]
  },
  {
   "cell_type": "code",
   "execution_count": 27,
   "metadata": {},
   "outputs": [
    {
     "name": "stdout",
     "output_type": "stream",
     "text": [
      "Precision: 0.864130437374115\n",
      "Recall: 0.8882681727409363\n",
      "F1 score: 0.8760330677032471\n"
     ]
    }
   ],
   "source": [
    "precision = confusion[1, 1] / (confusion[1, 1] + confusion[0, 1])\n",
    "recall = confusion[1, 1] / (confusion[1, 1] + confusion[1, 0])\n",
    "f1 = 2 * precision * recall / (precision + recall)\n",
    "print('Precision:', precision.item())\n",
    "print('Recall:', recall.item())\n",
    "print('F1 score:', f1.item())"
   ]
  },
  {
   "cell_type": "markdown",
   "metadata": {},
   "source": [
    "Our accuracy, precision, recall, and F1 score values are indicative of our successful training. There is obviously room for improvement."
   ]
  },
  {
   "cell_type": "code",
   "execution_count": 25,
   "metadata": {},
   "outputs": [
    {
     "name": "stdout",
     "output_type": "stream",
     "text": [
      "The percentage of spam emails in the training dataset is 27.0% while the percentage of spam emails in the testing dataset is 28.4%.\n"
     ]
    }
   ],
   "source": [
    "print('The percentage of spam emails in the training dataset is %.1f%% while the percentage of spam emails in the testing dataset is %.1f%%.' %((train_labels.sum()/len(train_labels)).item()*100, (test_labels.sum()/len(test_labels)).item()*100))"
   ]
  },
  {
   "cell_type": "markdown",
   "metadata": {},
   "source": [
    "Because the percentage of spam emails is approximately 28% in both training and testing datasets, we want out model to be at least 72% accurate. \n",
    "\n",
    "During my first attempts, my dataset wasn't balanced (82% non-spam, 18% spam) and my model would only predict \"0\" as the output. In that case, the 82% accuracy result was very misleading. It wasn't an indication of successful training, despite the high accuracy score. On the other hand, precision and recall were both 0, since there were no true positives. As a result, I had to balance my dataset by ignoring some of the non-spam emails."
   ]
  },
  {
   "cell_type": "code",
   "execution_count": 26,
   "metadata": {},
   "outputs": [
    {
     "name": "stdout",
     "output_type": "stream",
     "text": [
      "Model saved\n"
     ]
    }
   ],
   "source": [
    "# save the model\n",
    "torch.save(model.state_dict(), 'model.pth')\n",
    "print('Model saved')"
   ]
  }
 ],
 "metadata": {
  "kernelspec": {
   "display_name": "rgan_pytorch",
   "language": "python",
   "name": "rgan_pytorch"
  },
  "language_info": {
   "codemirror_mode": {
    "name": "ipython",
    "version": 3
   },
   "file_extension": ".py",
   "mimetype": "text/x-python",
   "name": "python",
   "nbconvert_exporter": "python",
   "pygments_lexer": "ipython3",
   "version": "3.11.8"
  }
 },
 "nbformat": 4,
 "nbformat_minor": 2
}
